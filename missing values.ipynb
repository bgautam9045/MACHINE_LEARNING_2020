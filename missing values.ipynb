{
 "cells": [
  {
   "cell_type": "code",
   "execution_count": 1,
   "metadata": {},
   "outputs": [],
   "source": [
    "import numpy as np\n",
    "import pandas as pd\n",
    "import matplotlib.pyplot as plt"
   ]
  },
  {
   "cell_type": "code",
   "execution_count": 2,
   "metadata": {},
   "outputs": [
    {
     "data": {
      "text/html": [
       "<div>\n",
       "<style scoped>\n",
       "    .dataframe tbody tr th:only-of-type {\n",
       "        vertical-align: middle;\n",
       "    }\n",
       "\n",
       "    .dataframe tbody tr th {\n",
       "        vertical-align: top;\n",
       "    }\n",
       "\n",
       "    .dataframe thead th {\n",
       "        text-align: right;\n",
       "    }\n",
       "</style>\n",
       "<table border=\"1\" class=\"dataframe\">\n",
       "  <thead>\n",
       "    <tr style=\"text-align: right;\">\n",
       "      <th></th>\n",
       "      <th>County</th>\n",
       "      <th>FIPS</th>\n",
       "      <th>Met Objective of 45.5? (1)</th>\n",
       "      <th>Age-Adjusted Death Rate</th>\n",
       "      <th>Lower 95% Confidence Interval for Death Rate</th>\n",
       "      <th>Upper 95% Confidence Interval for Death Rate</th>\n",
       "      <th>Average Deaths per Year</th>\n",
       "      <th>Recent Trend (2)</th>\n",
       "      <th>Recent 5-Year Trend (2) in Death Rates</th>\n",
       "      <th>Lower 95% Confidence Interval for Trend</th>\n",
       "      <th>Upper 95% Confidence Interval for Trend</th>\n",
       "    </tr>\n",
       "  </thead>\n",
       "  <tbody>\n",
       "    <tr>\n",
       "      <th>0</th>\n",
       "      <td>United States</td>\n",
       "      <td>0</td>\n",
       "      <td>No</td>\n",
       "      <td>46</td>\n",
       "      <td>45.9</td>\n",
       "      <td>46.1</td>\n",
       "      <td>1,57,376</td>\n",
       "      <td>falling</td>\n",
       "      <td>-2.4</td>\n",
       "      <td>-2.6</td>\n",
       "      <td>-2.2</td>\n",
       "    </tr>\n",
       "    <tr>\n",
       "      <th>1</th>\n",
       "      <td>Perry County, Kentucky</td>\n",
       "      <td>21193</td>\n",
       "      <td>No</td>\n",
       "      <td>125.6</td>\n",
       "      <td>108.9</td>\n",
       "      <td>144.2</td>\n",
       "      <td>43</td>\n",
       "      <td>stable</td>\n",
       "      <td>-0.6</td>\n",
       "      <td>-2.7</td>\n",
       "      <td>1.6</td>\n",
       "    </tr>\n",
       "    <tr>\n",
       "      <th>2</th>\n",
       "      <td>Powell County, Kentucky</td>\n",
       "      <td>21197</td>\n",
       "      <td>No</td>\n",
       "      <td>125.3</td>\n",
       "      <td>100.2</td>\n",
       "      <td>155.1</td>\n",
       "      <td>18</td>\n",
       "      <td>stable</td>\n",
       "      <td>1.7</td>\n",
       "      <td>0</td>\n",
       "      <td>3.4</td>\n",
       "    </tr>\n",
       "    <tr>\n",
       "      <th>3</th>\n",
       "      <td>North Slope Borough, Alaska</td>\n",
       "      <td>2185</td>\n",
       "      <td>No</td>\n",
       "      <td>124.9</td>\n",
       "      <td>73</td>\n",
       "      <td>194.7</td>\n",
       "      <td>5</td>\n",
       "      <td>**</td>\n",
       "      <td>**</td>\n",
       "      <td>**</td>\n",
       "      <td>**</td>\n",
       "    </tr>\n",
       "    <tr>\n",
       "      <th>4</th>\n",
       "      <td>Owsley County, Kentucky</td>\n",
       "      <td>21189</td>\n",
       "      <td>No</td>\n",
       "      <td>118.5</td>\n",
       "      <td>83.1</td>\n",
       "      <td>165.5</td>\n",
       "      <td>8</td>\n",
       "      <td>stable</td>\n",
       "      <td>2.2</td>\n",
       "      <td>-0.4</td>\n",
       "      <td>4.8</td>\n",
       "    </tr>\n",
       "  </tbody>\n",
       "</table>\n",
       "</div>"
      ],
      "text/plain": [
       "                        County   FIPS Met Objective of 45.5? (1)  \\\n",
       "0                United States      0                         No   \n",
       "1       Perry County, Kentucky  21193                         No   \n",
       "2      Powell County, Kentucky  21197                         No   \n",
       "3  North Slope Borough, Alaska   2185                         No   \n",
       "4      Owsley County, Kentucky  21189                         No   \n",
       "\n",
       "  Age-Adjusted Death Rate Lower 95% Confidence Interval for Death Rate  \\\n",
       "0                      46                                         45.9   \n",
       "1                   125.6                                        108.9   \n",
       "2                   125.3                                        100.2   \n",
       "3                   124.9                                           73   \n",
       "4                   118.5                                         83.1   \n",
       "\n",
       "  Upper 95% Confidence Interval for Death Rate Average Deaths per Year  \\\n",
       "0                                         46.1                1,57,376   \n",
       "1                                        144.2                      43   \n",
       "2                                        155.1                      18   \n",
       "3                                        194.7                       5   \n",
       "4                                        165.5                       8   \n",
       "\n",
       "  Recent Trend (2) Recent 5-Year Trend (2) in Death Rates  \\\n",
       "0          falling                                   -2.4   \n",
       "1           stable                                   -0.6   \n",
       "2           stable                                    1.7   \n",
       "3               **                                     **   \n",
       "4           stable                                    2.2   \n",
       "\n",
       "  Lower 95% Confidence Interval for Trend  \\\n",
       "0                                    -2.6   \n",
       "1                                    -2.7   \n",
       "2                                       0   \n",
       "3                                      **   \n",
       "4                                    -0.4   \n",
       "\n",
       "  Upper 95% Confidence Interval for Trend  \n",
       "0                                    -2.2  \n",
       "1                                     1.6  \n",
       "2                                     3.4  \n",
       "3                                      **  \n",
       "4                                     4.8  "
      ]
     },
     "execution_count": 2,
     "metadata": {},
     "output_type": "execute_result"
    }
   ],
   "source": [
    "#reading data\n",
    "data=pd.read_csv('share.csv')\n",
    "data.head()"
   ]
  },
  {
   "cell_type": "code",
   "execution_count": 3,
   "metadata": {},
   "outputs": [],
   "source": [
    "data['Recent Trend (2)'].replace('**',np.nan,inplace=True)\n",
    "data['Recent Trend (2)'].replace('*',np.nan,inplace=True)\n",
    "data['Recent 5-Year Trend (2) in Death Rates'].replace('**',np.nan,inplace=True)\n",
    "data['Recent 5-Year Trend (2) in Death Rates'].replace('*',np.nan,inplace=True)\n",
    "data['Lower 95% Confidence Interval for Trend'].replace('**',np.nan,inplace=True)\n",
    "data['Lower 95% Confidence Interval for Trend'].replace('*',np.nan,inplace=True)\n",
    "data['Upper 95% Confidence Interval for Trend'].replace('**',np.nan,inplace=True)\n",
    "data['Upper 95% Confidence Interval for Trend'].replace('*',np.nan,inplace=True)"
   ]
  },
  {
   "cell_type": "code",
   "execution_count": 4,
   "metadata": {},
   "outputs": [
    {
     "data": {
      "text/plain": [
       "County                                            0\n",
       "FIPS                                              0\n",
       "Met Objective of 45.5? (1)                        0\n",
       "Age-Adjusted Death Rate                           0\n",
       "Lower 95% Confidence Interval for Death Rate      0\n",
       "Upper 95% Confidence Interval for Death Rate      0\n",
       "Average Deaths per Year                           0\n",
       "Recent Trend (2)                                447\n",
       "Recent 5-Year Trend (2) in Death Rates          447\n",
       "Lower 95% Confidence Interval for Trend         447\n",
       "Upper 95% Confidence Interval for Trend         447\n",
       "dtype: int64"
      ]
     },
     "execution_count": 4,
     "metadata": {},
     "output_type": "execute_result"
    }
   ],
   "source": [
    "data.isnull().sum()"
   ]
  },
  {
   "cell_type": "code",
   "execution_count": 5,
   "metadata": {},
   "outputs": [
    {
     "data": {
      "text/plain": [
       "County                                          0\n",
       "FIPS                                            0\n",
       "Met Objective of 45.5? (1)                      0\n",
       "Age-Adjusted Death Rate                         0\n",
       "Lower 95% Confidence Interval for Death Rate    0\n",
       "Upper 95% Confidence Interval for Death Rate    0\n",
       "Average Deaths per Year                         0\n",
       "Recent Trend (2)                                0\n",
       "Recent 5-Year Trend (2) in Death Rates          0\n",
       "Lower 95% Confidence Interval for Trend         0\n",
       "Upper 95% Confidence Interval for Trend         0\n",
       "dtype: int64"
      ]
     },
     "execution_count": 5,
     "metadata": {},
     "output_type": "execute_result"
    }
   ],
   "source": [
    "#it does not make changes in your original file u have to put data=data.dropna().isnull().sum()\n",
    "\n",
    "data.dropna().isnull().sum()"
   ]
  },
  {
   "cell_type": "code",
   "execution_count": 6,
   "metadata": {},
   "outputs": [],
   "source": [
    "data['Lower 95% Confidence Interval for Trend']=data['Lower 95% Confidence Interval for Trend'].apply(lambda x:float(x))\n",
    "data['Upper 95% Confidence Interval for Trend']=data['Upper 95% Confidence Interval for Trend'].apply(lambda x:float(x))\n",
    "data['Recent 5-Year Trend (2) in Death Rates']=data['Recent 5-Year Trend (2) in Death Rates'].apply(lambda x:float(x))"
   ]
  },
  {
   "cell_type": "code",
   "execution_count": 7,
   "metadata": {},
   "outputs": [],
   "source": [
    "X=data['Lower 95% Confidence Interval for Trend'].mean()\n",
    "Y=data['Upper 95% Confidence Interval for Trend'].mean()\n",
    "Z=data['Recent 5-Year Trend (2) in Death Rates'].mean()"
   ]
  },
  {
   "cell_type": "code",
   "execution_count": 8,
   "metadata": {},
   "outputs": [
    {
     "name": "stdout",
     "output_type": "stream",
     "text": [
      "-2.755939123979214\n",
      "0.8373051224944313\n",
      "-1.0035263548626574\n"
     ]
    }
   ],
   "source": [
    "print(X)\n",
    "print(Y)\n",
    "print(Z)"
   ]
  },
  {
   "cell_type": "code",
   "execution_count": 9,
   "metadata": {},
   "outputs": [],
   "source": [
    "data['Lower 95% Confidence Interval for Trend'].replace(np.nan,X,inplace=True)\n",
    "data['Upper 95% Confidence Interval for Trend'].replace(np.nan,Y,inplace=True)\n",
    "data['Recent 5-Year Trend (2) in Death Rates'].replace(np.nan,Z,inplace=True)"
   ]
  },
  {
   "cell_type": "code",
   "execution_count": 10,
   "metadata": {},
   "outputs": [
    {
     "data": {
      "text/html": [
       "<div>\n",
       "<style scoped>\n",
       "    .dataframe tbody tr th:only-of-type {\n",
       "        vertical-align: middle;\n",
       "    }\n",
       "\n",
       "    .dataframe tbody tr th {\n",
       "        vertical-align: top;\n",
       "    }\n",
       "\n",
       "    .dataframe thead th {\n",
       "        text-align: right;\n",
       "    }\n",
       "</style>\n",
       "<table border=\"1\" class=\"dataframe\">\n",
       "  <thead>\n",
       "    <tr style=\"text-align: right;\">\n",
       "      <th></th>\n",
       "      <th>County</th>\n",
       "      <th>FIPS</th>\n",
       "      <th>Met Objective of 45.5? (1)</th>\n",
       "      <th>Age-Adjusted Death Rate</th>\n",
       "      <th>Lower 95% Confidence Interval for Death Rate</th>\n",
       "      <th>Upper 95% Confidence Interval for Death Rate</th>\n",
       "      <th>Average Deaths per Year</th>\n",
       "      <th>Recent Trend (2)</th>\n",
       "      <th>Recent 5-Year Trend (2) in Death Rates</th>\n",
       "      <th>Lower 95% Confidence Interval for Trend</th>\n",
       "      <th>Upper 95% Confidence Interval for Trend</th>\n",
       "    </tr>\n",
       "  </thead>\n",
       "  <tbody>\n",
       "    <tr>\n",
       "      <th>0</th>\n",
       "      <td>United States</td>\n",
       "      <td>0</td>\n",
       "      <td>No</td>\n",
       "      <td>46</td>\n",
       "      <td>45.9</td>\n",
       "      <td>46.1</td>\n",
       "      <td>1,57,376</td>\n",
       "      <td>falling</td>\n",
       "      <td>-2.400000</td>\n",
       "      <td>-2.600000</td>\n",
       "      <td>-2.200000</td>\n",
       "    </tr>\n",
       "    <tr>\n",
       "      <th>1</th>\n",
       "      <td>Perry County, Kentucky</td>\n",
       "      <td>21193</td>\n",
       "      <td>No</td>\n",
       "      <td>125.6</td>\n",
       "      <td>108.9</td>\n",
       "      <td>144.2</td>\n",
       "      <td>43</td>\n",
       "      <td>stable</td>\n",
       "      <td>-0.600000</td>\n",
       "      <td>-2.700000</td>\n",
       "      <td>1.600000</td>\n",
       "    </tr>\n",
       "    <tr>\n",
       "      <th>2</th>\n",
       "      <td>Powell County, Kentucky</td>\n",
       "      <td>21197</td>\n",
       "      <td>No</td>\n",
       "      <td>125.3</td>\n",
       "      <td>100.2</td>\n",
       "      <td>155.1</td>\n",
       "      <td>18</td>\n",
       "      <td>stable</td>\n",
       "      <td>1.700000</td>\n",
       "      <td>0.000000</td>\n",
       "      <td>3.400000</td>\n",
       "    </tr>\n",
       "    <tr>\n",
       "      <th>3</th>\n",
       "      <td>North Slope Borough, Alaska</td>\n",
       "      <td>2185</td>\n",
       "      <td>No</td>\n",
       "      <td>124.9</td>\n",
       "      <td>73</td>\n",
       "      <td>194.7</td>\n",
       "      <td>5</td>\n",
       "      <td>NaN</td>\n",
       "      <td>-1.003526</td>\n",
       "      <td>-2.755939</td>\n",
       "      <td>0.837305</td>\n",
       "    </tr>\n",
       "    <tr>\n",
       "      <th>4</th>\n",
       "      <td>Owsley County, Kentucky</td>\n",
       "      <td>21189</td>\n",
       "      <td>No</td>\n",
       "      <td>118.5</td>\n",
       "      <td>83.1</td>\n",
       "      <td>165.5</td>\n",
       "      <td>8</td>\n",
       "      <td>stable</td>\n",
       "      <td>2.200000</td>\n",
       "      <td>-0.400000</td>\n",
       "      <td>4.800000</td>\n",
       "    </tr>\n",
       "  </tbody>\n",
       "</table>\n",
       "</div>"
      ],
      "text/plain": [
       "                        County   FIPS Met Objective of 45.5? (1)  \\\n",
       "0                United States      0                         No   \n",
       "1       Perry County, Kentucky  21193                         No   \n",
       "2      Powell County, Kentucky  21197                         No   \n",
       "3  North Slope Borough, Alaska   2185                         No   \n",
       "4      Owsley County, Kentucky  21189                         No   \n",
       "\n",
       "  Age-Adjusted Death Rate Lower 95% Confidence Interval for Death Rate  \\\n",
       "0                      46                                         45.9   \n",
       "1                   125.6                                        108.9   \n",
       "2                   125.3                                        100.2   \n",
       "3                   124.9                                           73   \n",
       "4                   118.5                                         83.1   \n",
       "\n",
       "  Upper 95% Confidence Interval for Death Rate Average Deaths per Year  \\\n",
       "0                                         46.1                1,57,376   \n",
       "1                                        144.2                      43   \n",
       "2                                        155.1                      18   \n",
       "3                                        194.7                       5   \n",
       "4                                        165.5                       8   \n",
       "\n",
       "  Recent Trend (2)  Recent 5-Year Trend (2) in Death Rates  \\\n",
       "0          falling                               -2.400000   \n",
       "1           stable                               -0.600000   \n",
       "2           stable                                1.700000   \n",
       "3              NaN                               -1.003526   \n",
       "4           stable                                2.200000   \n",
       "\n",
       "   Lower 95% Confidence Interval for Trend  \\\n",
       "0                                -2.600000   \n",
       "1                                -2.700000   \n",
       "2                                 0.000000   \n",
       "3                                -2.755939   \n",
       "4                                -0.400000   \n",
       "\n",
       "   Upper 95% Confidence Interval for Trend  \n",
       "0                                -2.200000  \n",
       "1                                 1.600000  \n",
       "2                                 3.400000  \n",
       "3                                 0.837305  \n",
       "4                                 4.800000  "
      ]
     },
     "execution_count": 10,
     "metadata": {},
     "output_type": "execute_result"
    }
   ],
   "source": [
    "data.head()"
   ]
  },
  {
   "cell_type": "code",
   "execution_count": 11,
   "metadata": {},
   "outputs": [],
   "source": [
    "X1=data['Lower 95% Confidence Interval for Trend'].values\n",
    "Y1=data['Upper 95% Confidence Interval for Trend'].values\n",
    "Z1=data['Recent 5-Year Trend (2) in Death Rates'].values"
   ]
  },
  {
   "cell_type": "code",
   "execution_count": 13,
   "metadata": {},
   "outputs": [
    {
     "name": "stdout",
     "output_type": "stream",
     "text": [
      "B1= -0.006421479242367527 B0= 0.8196079166165703\n"
     ]
    }
   ],
   "source": [
    "#calculating b0 and b1 for x and y coordinates\n",
    "num=0\n",
    "den=0\n",
    "for i in range(len(X1)):\n",
    "    num+=(X1[i]-X)*(Y1[i]-Y)\n",
    "    den+=(X1[i]-X)**2\n",
    "b1=num/den\n",
    "b0=Y-(b1*X)\n",
    "print(\"B1=\",b1,\"B0=\",b0)"
   ]
  },
  {
   "cell_type": "code",
   "execution_count": 14,
   "metadata": {},
   "outputs": [
    {
     "data": {
      "image/png": "[encoded data removed]",
      "text/plain": [
       "<Figure size 432x288 with 1 Axes>"
      ]
     },
     "metadata": {
      "needs_background": "light"
     },
     "output_type": "display_data"
    }
   ],
   "source": [
    "#plotting values\n",
    "max_x=np.max(X1)+100\n",
    "min_x=np.min(X1)-100\n",
    "x=np.linspace(min_x,max_x,1000)\n",
    "y=b0+b1*x\n",
    "plt.plot(x,y,color=\"blue\",label=\"Regression Line\")\n",
    "plt.scatter(X1,Y1,color=\"red\",label=\"Scatter Point\")\n",
    "plt.xlabel(\"Lower 95% Confidence Interval for Trend(input)\")\n",
    "plt.ylabel(\"Upper 95% Confidence Interval for Trend(output)\")\n",
    "plt.legend()\n",
    "plt.show()"
   ]
  },
  {
   "cell_type": "code",
   "execution_count": 15,
   "metadata": {},
   "outputs": [
    {
     "name": "stdout",
     "output_type": "stream",
     "text": [
      "B1= 1.0000000000000056 B0= 1.8408314773570944\n"
     ]
    }
   ],
   "source": [
    "#calculating b0 and b1 for y and z coordinates\n",
    "num=0\n",
    "den=0\n",
    "for i in range(len(Z1)):\n",
    "    num+=(Z1[i]-Z)*(Z1[i]-X)\n",
    "    den+=(Z1[i]-Z)**2\n",
    "b1=num/den\n",
    "b0=Y-(b1*Z)\n",
    "print(\"B1=\",b1,\"B0=\",b0)"
   ]
  },
  {
   "cell_type": "code",
   "execution_count": 16,
   "metadata": {},
   "outputs": [
    {
     "data": {
      "image/png": "[encoded data removed]",
      "text/plain": [
       "<Figure size 432x288 with 1 Axes>"
      ]
     },
     "metadata": {
      "needs_background": "light"
     },
     "output_type": "display_data"
    }
   ],
   "source": [
    "#plotting values\n",
    "max_x=np.max(Z1)+100\n",
    "min_x=np.min(Z1)-100\n",
    "x=np.linspace(min_x,max_x,1000)\n",
    "y=b0+b1*x\n",
    "plt.plot(x,y,color=\"blue\",label=\"Regression Line\")\n",
    "plt.scatter(Z1,X1,color=\"red\",label=\"Scatter Point\")\n",
    "plt.xlabel(\"Lower 95% Confidence Interval for Trend(input)\")\n",
    "plt.ylabel(\"Upper 95% Confidence Interval for Trend(output)\")\n",
    "plt.legend()\n",
    "plt.show()"
   ]
  },
  {
   "cell_type": "code",
   "execution_count": null,
   "metadata": {},
   "outputs": [],
   "source": []
  }
 ],
 "metadata": {
  "kernelspec": {
   "display_name": "Python 3",
   "language": "python",
   "name": "python3"
  },
  "language_info": {
   "codemirror_mode": {
    "name": "ipython",
    "version": 3
   },
   "file_extension": ".py",
   "mimetype": "text/x-python",
   "name": "python",
   "nbconvert_exporter": "python",
   "pygments_lexer": "ipython3",
   "version": "3.7.6"
  }
 },
 "nbformat": 4,
 "nbformat_minor": 4
}
